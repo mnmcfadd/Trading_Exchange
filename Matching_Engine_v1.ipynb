import heapq

class book:
  def __init__(self):
    self.bids = []
    self.offers = []
    self.qtys = {}

  def add_bid(self, price, qty, timestamp):
    if self.match_bid(price, qty):
      return
    heapq.heappush(self.bids, (-price, timestamp))
    self.qtys[(-price, timestamp)] = qty

  def add_offer(self, price, qty, timestamp):
    if self.match_offer(price, qty):
      return
    heapq.heappush(self.offers, (price, timestamp))
    self.qtys[(price, timestamp)] = qty

  def match_bid(self, price, qty):
    return False
    
  def match_offer(self, price, qty):
    return False

  def new_order(self, o_type, price, qty, timestamp):
    if o_type in 'bB':
      self.add_bid(price, qty, timestamp)
    elif o_type in 'oO':
      self.add_offer(price, qty, timestamp)
    else:
      print(f"Error: Invalid order type: \"{o_type}\".\nValid Orders are \"b\" or \"o\".")
    return

newBook = book()
newBook.new_order('o', 12, 100, 1)
newBook.new_order('b', 11.50, 50, 1)
newBook.new_order('c', 1, 1, 1)
print(newBook.bids, newBook.offers, newBook.qtys)