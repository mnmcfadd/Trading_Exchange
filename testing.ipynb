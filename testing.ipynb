{
 "cells": [
  {
   "cell_type": "markdown",
   "metadata": {},
   "source": [
    "### Testing and Sample Usage"
   ]
  },
  {
   "cell_type": "code",
   "execution_count": 2,
   "metadata": {},
   "outputs": [
    {
     "name": "stdout",
     "output_type": "stream",
     "text": [
      "Trade Executed: Bid ID = js0000\tOffer ID = js0004\tsize = 10\tprice = 11.75\n",
      "Trade Executed: Bid ID = js0001\tOffer ID = js0004\tsize = 10\tprice = 11.75\n",
      "Trade Executed: Bid ID = op0001\tOffer ID = js0004\tsize = 10\tprice = 11.75\n",
      "Trade Executed: Bid ID = op0002\tOffer ID = js0004\tsize = 10\tprice = 11.75\n",
      "Trade Executed: Bid ID = js0002\tOffer ID = js0004\tsize = 10\tprice = 11.75\n",
      "Trade Executed: Bid ID = js0003\tOffer ID = js0004\tsize = 5\tprice = 11.75\n"
     ]
    },
    {
     "data": {
      "text/html": [
       "<div>\n",
       "<style scoped>\n",
       "    .dataframe tbody tr th:only-of-type {\n",
       "        vertical-align: middle;\n",
       "    }\n",
       "\n",
       "    .dataframe tbody tr th {\n",
       "        vertical-align: top;\n",
       "    }\n",
       "\n",
       "    .dataframe thead th {\n",
       "        text-align: right;\n",
       "    }\n",
       "</style>\n",
       "<table border=\"1\" class=\"dataframe\">\n",
       "  <thead>\n",
       "    <tr style=\"text-align: right;\">\n",
       "      <th></th>\n",
       "      <th>bid_ID</th>\n",
       "      <th>bid_qty</th>\n",
       "      <th>bid_price</th>\n",
       "      <th>offer_price</th>\n",
       "      <th>offer_qty</th>\n",
       "      <th>offer_ID</th>\n",
       "    </tr>\n",
       "  </thead>\n",
       "  <tbody>\n",
       "    <tr>\n",
       "      <th>0</th>\n",
       "      <td>js0003</td>\n",
       "      <td>5</td>\n",
       "      <td>11.75</td>\n",
       "      <td>12.0</td>\n",
       "      <td>100</td>\n",
       "      <td>op0000</td>\n",
       "    </tr>\n",
       "    <tr>\n",
       "      <th>1</th>\n",
       "      <td>op0004</td>\n",
       "      <td>10</td>\n",
       "      <td>11.75</td>\n",
       "      <td>12.0</td>\n",
       "      <td>100</td>\n",
       "      <td>op0003</td>\n",
       "    </tr>\n",
       "    <tr>\n",
       "      <th>2</th>\n",
       "      <td>op0005</td>\n",
       "      <td>10</td>\n",
       "      <td>11.75</td>\n",
       "      <td></td>\n",
       "      <td></td>\n",
       "      <td></td>\n",
       "    </tr>\n",
       "  </tbody>\n",
       "</table>\n",
       "</div>"
      ],
      "text/plain": [
       "   bid_ID  bid_qty  bid_price offer_price offer_qty offer_ID\n",
       "0  js0003        5      11.75        12.0       100   op0000\n",
       "1  op0004       10      11.75        12.0       100   op0003\n",
       "2  op0005       10      11.75                               "
      ]
     },
     "metadata": {},
     "output_type": "display_data"
    }
   ],
   "source": [
    "from matching import MatchingEngine\n",
    "from trading import TradingSystem\n",
    "\n",
    "ME = MatchingEngine('main')\n",
    "\n",
    "op = TradingSystem('Optiver', 'op', ME)\n",
    "js = TradingSystem('Jane Street', 'js', ME)\n",
    "\n",
    "op.order('o', 12.00, 100)\n",
    "js.order('b', 11.75, 10)\n",
    "js.order('b', 11.75, 10)\n",
    "op.order('b', 11.75, 10)\n",
    "op.order('b', 11.75, 10)\n",
    "op.order('o', 12.00, 100)\n",
    "js.order('b', 11.75, 10)\n",
    "js.order('b', 11.75, 10)\n",
    "op.order('b', 11.75, 10)\n",
    "op.order('b', 11.75, 10)\n",
    "js.order('o', 11.75, 55)\n",
    "\n",
    "ME.get_book()"
   ]
  },
  {
   "cell_type": "markdown",
   "metadata": {},
   "source": [
    "### Replicate Feature\n",
    "\n",
    "In case that main exchange fails, we can use the logs from main as input to a backup matching engine, which will parse the logs and replay all activity from the main engine, bringing us to the same state that the main engine was at when it failed."
   ]
  },
  {
   "cell_type": "code",
   "execution_count": 3,
   "metadata": {},
   "outputs": [
    {
     "name": "stdout",
     "output_type": "stream",
     "text": [
      "Trade Executed: Bid ID = js0000\tOffer ID = js0004\tsize = 10\tprice = 11.75\n",
      "Trade Executed: Bid ID = js0001\tOffer ID = js0004\tsize = 10\tprice = 11.75\n",
      "Trade Executed: Bid ID = op0001\tOffer ID = js0004\tsize = 10\tprice = 11.75\n",
      "Trade Executed: Bid ID = op0002\tOffer ID = js0004\tsize = 10\tprice = 11.75\n",
      "Trade Executed: Bid ID = js0002\tOffer ID = js0004\tsize = 10\tprice = 11.75\n",
      "Trade Executed: Bid ID = js0003\tOffer ID = js0004\tsize = 5\tprice = 11.75\n"
     ]
    },
    {
     "data": {
      "text/html": [
       "<div>\n",
       "<style scoped>\n",
       "    .dataframe tbody tr th:only-of-type {\n",
       "        vertical-align: middle;\n",
       "    }\n",
       "\n",
       "    .dataframe tbody tr th {\n",
       "        vertical-align: top;\n",
       "    }\n",
       "\n",
       "    .dataframe thead th {\n",
       "        text-align: right;\n",
       "    }\n",
       "</style>\n",
       "<table border=\"1\" class=\"dataframe\">\n",
       "  <thead>\n",
       "    <tr style=\"text-align: right;\">\n",
       "      <th></th>\n",
       "      <th>bid_ID</th>\n",
       "      <th>bid_qty</th>\n",
       "      <th>bid_price</th>\n",
       "      <th>offer_price</th>\n",
       "      <th>offer_qty</th>\n",
       "      <th>offer_ID</th>\n",
       "    </tr>\n",
       "  </thead>\n",
       "  <tbody>\n",
       "    <tr>\n",
       "      <th>0</th>\n",
       "      <td>js0003</td>\n",
       "      <td>5</td>\n",
       "      <td>11.75</td>\n",
       "      <td>12.0</td>\n",
       "      <td>100</td>\n",
       "      <td>op0000</td>\n",
       "    </tr>\n",
       "    <tr>\n",
       "      <th>1</th>\n",
       "      <td>op0004</td>\n",
       "      <td>10</td>\n",
       "      <td>11.75</td>\n",
       "      <td>12.0</td>\n",
       "      <td>100</td>\n",
       "      <td>op0003</td>\n",
       "    </tr>\n",
       "    <tr>\n",
       "      <th>2</th>\n",
       "      <td>op0005</td>\n",
       "      <td>10</td>\n",
       "      <td>11.75</td>\n",
       "      <td></td>\n",
       "      <td></td>\n",
       "      <td></td>\n",
       "    </tr>\n",
       "  </tbody>\n",
       "</table>\n",
       "</div>"
      ],
      "text/plain": [
       "   bid_ID  bid_qty  bid_price offer_price offer_qty offer_ID\n",
       "0  js0003        5      11.75        12.0       100   op0000\n",
       "1  op0004       10      11.75        12.0       100   op0003\n",
       "2  op0005       10      11.75                               "
      ]
     },
     "metadata": {},
     "output_type": "display_data"
    }
   ],
   "source": [
    "ME_backup = MatchingEngine('backup')\n",
    "ME_backup.replicate('main')\n",
    "ME_backup.get_book()"
   ]
  }
 ],
 "metadata": {
  "kernelspec": {
   "display_name": "Python 3",
   "language": "python",
   "name": "python3"
  },
  "language_info": {
   "codemirror_mode": {
    "name": "ipython",
    "version": 3
   },
   "file_extension": ".py",
   "mimetype": "text/x-python",
   "name": "python",
   "nbconvert_exporter": "python",
   "pygments_lexer": "ipython3",
   "version": "3.9.5"
  }
 },
 "nbformat": 4,
 "nbformat_minor": 2
}
